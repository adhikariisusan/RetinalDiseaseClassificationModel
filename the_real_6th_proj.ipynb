{
 "cells": [
  {
   "cell_type": "code",
   "execution_count": 35,
   "id": "e430a481-23a9-4a29-b98d-260aa674aa86",
   "metadata": {
    "executionCancelledAt": null,
    "executionTime": 3135,
    "lastExecutedAt": 1748374421146,
    "lastExecutedByKernel": "e7d2420a-e1e1-4f1b-88ca-d2e298265e26",
    "lastScheduledRunId": null,
    "lastSuccessfullyExecutedCode": "!pip install kagglehub\n\n",
    "outputsMetadata": {
     "0": {
      "height": 290,
      "type": "stream"
     }
    }
   },
   "outputs": [
    {
     "name": "stdout",
     "output_type": "stream",
     "text": [
      "Requirement already satisfied: kagglehub in c:\\users\\adhik\\appdata\\local\\packages\\pythonsoftwarefoundation.python.3.11_qbz5n2kfra8p0\\localcache\\local-packages\\python311\\site-packages (0.3.12)"
     ]
    },
    {
     "name": "stderr",
     "output_type": "stream",
     "text": [
      "\n",
      "[notice] A new release of pip is available: 24.3.1 -> 25.1.1\n",
      "[notice] To update, run: C:\\Users\\adhik\\AppData\\Local\\Microsoft\\WindowsApps\\PythonSoftwareFoundation.Python.3.11_qbz5n2kfra8p0\\python.exe -m pip install --upgrade pip\n"
     ]
    },
    {
     "name": "stdout",
     "output_type": "stream",
     "text": [
      "\n",
      "Requirement already satisfied: packaging in c:\\users\\adhik\\appdata\\local\\packages\\pythonsoftwarefoundation.python.3.11_qbz5n2kfra8p0\\localcache\\local-packages\\python311\\site-packages (from kagglehub) (24.1)\n",
      "Requirement already satisfied: pyyaml in c:\\users\\adhik\\appdata\\local\\packages\\pythonsoftwarefoundation.python.3.11_qbz5n2kfra8p0\\localcache\\local-packages\\python311\\site-packages (from kagglehub) (6.0.2)\n",
      "Requirement already satisfied: requests in c:\\users\\adhik\\appdata\\local\\packages\\pythonsoftwarefoundation.python.3.11_qbz5n2kfra8p0\\localcache\\local-packages\\python311\\site-packages (from kagglehub) (2.32.3)\n",
      "Requirement already satisfied: tqdm in c:\\users\\adhik\\appdata\\local\\packages\\pythonsoftwarefoundation.python.3.11_qbz5n2kfra8p0\\localcache\\local-packages\\python311\\site-packages (from kagglehub) (4.67.1)\n",
      "Requirement already satisfied: charset-normalizer<4,>=2 in c:\\users\\adhik\\appdata\\local\\packages\\pythonsoftwarefoundation.python.3.11_qbz5n2kfra8p0\\localcache\\local-packages\\python311\\site-packages (from requests->kagglehub) (3.4.0)\n",
      "Requirement already satisfied: idna<4,>=2.5 in c:\\users\\adhik\\appdata\\local\\packages\\pythonsoftwarefoundation.python.3.11_qbz5n2kfra8p0\\localcache\\local-packages\\python311\\site-packages (from requests->kagglehub) (3.10)\n",
      "Requirement already satisfied: urllib3<3,>=1.21.1 in c:\\users\\adhik\\appdata\\local\\packages\\pythonsoftwarefoundation.python.3.11_qbz5n2kfra8p0\\localcache\\local-packages\\python311\\site-packages (from requests->kagglehub) (2.2.3)\n",
      "Requirement already satisfied: certifi>=2017.4.17 in c:\\users\\adhik\\appdata\\local\\packages\\pythonsoftwarefoundation.python.3.11_qbz5n2kfra8p0\\localcache\\local-packages\\python311\\site-packages (from requests->kagglehub) (2024.8.30)\n",
      "Requirement already satisfied: colorama in c:\\users\\adhik\\appdata\\local\\packages\\pythonsoftwarefoundation.python.3.11_qbz5n2kfra8p0\\localcache\\local-packages\\python311\\site-packages (from tqdm->kagglehub) (0.4.6)\n"
     ]
    }
   ],
   "source": [
    "!pip install kagglehub\n",
    "\n"
   ]
  },
  {
   "cell_type": "code",
   "execution_count": 36,
   "id": "38c1b6fc-17b8-4dd5-b2af-ef4fdd91cb2e",
   "metadata": {
    "executionCancelledAt": null,
    "executionTime": 1352,
    "lastExecutedAt": 1748374422500,
    "lastExecutedByKernel": "e7d2420a-e1e1-4f1b-88ca-d2e298265e26",
    "lastScheduledRunId": null,
    "lastSuccessfullyExecutedCode": "import kagglehub\n\n# Download latest version\npath = kagglehub.dataset_download(\"andrewmvd/retinal-disease-classification\")\n\nprint(\"Path to dataset files:\", path)",
    "outputsMetadata": {
     "0": {
      "height": 38,
      "type": "stream"
     },
     "1": {
      "height": 38,
      "type": "stream"
     },
     "2": {
      "height": 38,
      "type": "stream"
     },
     "3": {
      "height": 38,
      "type": "stream"
     }
    }
   },
   "outputs": [
    {
     "name": "stdout",
     "output_type": "stream",
     "text": [
      "Path to dataset files: C:\\Users\\adhik\\.cache\\kagglehub\\datasets\\andrewmvd\\retinal-disease-classification\\versions\\1\n"
     ]
    }
   ],
   "source": [
    "import kagglehub\n",
    "\n",
    "# Download latest version\n",
    "path = kagglehub.dataset_download(\"andrewmvd/retinal-disease-classification\")\n",
    "\n",
    "print(\"Path to dataset files:\", path)"
   ]
  },
  {
   "cell_type": "markdown",
   "id": "ddb6fdc5-2e85-4f70-a302-c71d4b452c51",
   "metadata": {
    "id": "o9Q1QujFtrYl"
   },
   "source": [
    "Here we have successfully imported the dataset for retinal disease detection system"
   ]
  },
  {
   "cell_type": "code",
   "execution_count": 37,
   "id": "74e10f2f-c7c5-46d2-80fe-bf1238bb8cd4",
   "metadata": {
    "executionCancelledAt": null,
    "executionTime": 45,
    "id": "bA0sGTmgtxjJ",
    "lastExecutedAt": 1748374422545,
    "lastExecutedByKernel": "e7d2420a-e1e1-4f1b-88ca-d2e298265e26",
    "lastScheduledRunId": null,
    "lastSuccessfullyExecutedCode": "import pandas as pd\nimport numpy as np\nimport os\nfrom PIL import Image\n"
   },
   "outputs": [],
   "source": [
    "import pandas as pd\n",
    "import numpy as np\n",
    "import os\n",
    "from PIL import Image\n"
   ]
  },
  {
   "cell_type": "code",
   "execution_count": 38,
   "id": "fb965ed2-ba88-4e10-abb7-5e723fa927ad",
   "metadata": {
    "colab": {
     "base_uri": "https://localhost:8080/",
     "height": 235
    },
    "executionCancelledAt": null,
    "executionTime": 61,
    "id": "dVnITkAAvFtG",
    "lastExecutedAt": 1748374422606,
    "lastExecutedByKernel": "e7d2420a-e1e1-4f1b-88ca-d2e298265e26",
    "lastScheduledRunId": null,
    "lastSuccessfullyExecutedCode": "# Let us observe the training data\neye_disease_train = pd.read_csv(path + '/Training_Set/Training_Set/RFMiD_Training_Labels.csv')\neye_disease_train.head()",
    "outputId": "0c988675-0b57-4cf3-d81a-efc8c8d6af61",
    "outputsMetadata": {
     "0": {
      "height": 262,
      "tableState": {},
      "type": "dataFrame"
     }
    }
   },
   "outputs": [
    {
     "data": {
      "text/html": [
       "<div>\n",
       "<style scoped>\n",
       "    .dataframe tbody tr th:only-of-type {\n",
       "        vertical-align: middle;\n",
       "    }\n",
       "\n",
       "    .dataframe tbody tr th {\n",
       "        vertical-align: top;\n",
       "    }\n",
       "\n",
       "    .dataframe thead th {\n",
       "        text-align: right;\n",
       "    }\n",
       "</style>\n",
       "<table border=\"1\" class=\"dataframe\">\n",
       "  <thead>\n",
       "    <tr style=\"text-align: right;\">\n",
       "      <th></th>\n",
       "      <th>ID</th>\n",
       "      <th>Disease_Risk</th>\n",
       "      <th>DR</th>\n",
       "      <th>ARMD</th>\n",
       "      <th>MH</th>\n",
       "      <th>DN</th>\n",
       "      <th>MYA</th>\n",
       "      <th>BRVO</th>\n",
       "      <th>TSLN</th>\n",
       "      <th>ERM</th>\n",
       "      <th>...</th>\n",
       "      <th>CME</th>\n",
       "      <th>PTCR</th>\n",
       "      <th>CF</th>\n",
       "      <th>VH</th>\n",
       "      <th>MCA</th>\n",
       "      <th>VS</th>\n",
       "      <th>BRAO</th>\n",
       "      <th>PLQ</th>\n",
       "      <th>HPED</th>\n",
       "      <th>CL</th>\n",
       "    </tr>\n",
       "  </thead>\n",
       "  <tbody>\n",
       "    <tr>\n",
       "      <th>0</th>\n",
       "      <td>1</td>\n",
       "      <td>1</td>\n",
       "      <td>1</td>\n",
       "      <td>0</td>\n",
       "      <td>0</td>\n",
       "      <td>0</td>\n",
       "      <td>0</td>\n",
       "      <td>0</td>\n",
       "      <td>0</td>\n",
       "      <td>0</td>\n",
       "      <td>...</td>\n",
       "      <td>0</td>\n",
       "      <td>0</td>\n",
       "      <td>0</td>\n",
       "      <td>0</td>\n",
       "      <td>0</td>\n",
       "      <td>0</td>\n",
       "      <td>0</td>\n",
       "      <td>0</td>\n",
       "      <td>0</td>\n",
       "      <td>0</td>\n",
       "    </tr>\n",
       "    <tr>\n",
       "      <th>1</th>\n",
       "      <td>2</td>\n",
       "      <td>1</td>\n",
       "      <td>1</td>\n",
       "      <td>0</td>\n",
       "      <td>0</td>\n",
       "      <td>0</td>\n",
       "      <td>0</td>\n",
       "      <td>0</td>\n",
       "      <td>0</td>\n",
       "      <td>0</td>\n",
       "      <td>...</td>\n",
       "      <td>0</td>\n",
       "      <td>0</td>\n",
       "      <td>0</td>\n",
       "      <td>0</td>\n",
       "      <td>0</td>\n",
       "      <td>0</td>\n",
       "      <td>0</td>\n",
       "      <td>0</td>\n",
       "      <td>0</td>\n",
       "      <td>0</td>\n",
       "    </tr>\n",
       "    <tr>\n",
       "      <th>2</th>\n",
       "      <td>3</td>\n",
       "      <td>1</td>\n",
       "      <td>1</td>\n",
       "      <td>0</td>\n",
       "      <td>0</td>\n",
       "      <td>0</td>\n",
       "      <td>0</td>\n",
       "      <td>0</td>\n",
       "      <td>0</td>\n",
       "      <td>0</td>\n",
       "      <td>...</td>\n",
       "      <td>0</td>\n",
       "      <td>0</td>\n",
       "      <td>0</td>\n",
       "      <td>0</td>\n",
       "      <td>0</td>\n",
       "      <td>0</td>\n",
       "      <td>0</td>\n",
       "      <td>0</td>\n",
       "      <td>0</td>\n",
       "      <td>0</td>\n",
       "    </tr>\n",
       "    <tr>\n",
       "      <th>3</th>\n",
       "      <td>4</td>\n",
       "      <td>1</td>\n",
       "      <td>0</td>\n",
       "      <td>0</td>\n",
       "      <td>1</td>\n",
       "      <td>0</td>\n",
       "      <td>0</td>\n",
       "      <td>0</td>\n",
       "      <td>0</td>\n",
       "      <td>0</td>\n",
       "      <td>...</td>\n",
       "      <td>0</td>\n",
       "      <td>0</td>\n",
       "      <td>0</td>\n",
       "      <td>0</td>\n",
       "      <td>0</td>\n",
       "      <td>0</td>\n",
       "      <td>0</td>\n",
       "      <td>0</td>\n",
       "      <td>0</td>\n",
       "      <td>0</td>\n",
       "    </tr>\n",
       "    <tr>\n",
       "      <th>4</th>\n",
       "      <td>5</td>\n",
       "      <td>1</td>\n",
       "      <td>1</td>\n",
       "      <td>0</td>\n",
       "      <td>0</td>\n",
       "      <td>0</td>\n",
       "      <td>0</td>\n",
       "      <td>0</td>\n",
       "      <td>0</td>\n",
       "      <td>0</td>\n",
       "      <td>...</td>\n",
       "      <td>0</td>\n",
       "      <td>0</td>\n",
       "      <td>0</td>\n",
       "      <td>0</td>\n",
       "      <td>0</td>\n",
       "      <td>0</td>\n",
       "      <td>0</td>\n",
       "      <td>0</td>\n",
       "      <td>0</td>\n",
       "      <td>0</td>\n",
       "    </tr>\n",
       "  </tbody>\n",
       "</table>\n",
       "<p>5 rows × 47 columns</p>\n",
       "</div>"
      ],
      "text/plain": [
       "   ID  Disease_Risk  DR  ARMD  MH  DN  MYA  BRVO  TSLN  ERM  ...  CME  PTCR  \\\n",
       "0   1             1   1     0   0   0    0     0     0    0  ...    0     0   \n",
       "1   2             1   1     0   0   0    0     0     0    0  ...    0     0   \n",
       "2   3             1   1     0   0   0    0     0     0    0  ...    0     0   \n",
       "3   4             1   0     0   1   0    0     0     0    0  ...    0     0   \n",
       "4   5             1   1     0   0   0    0     0     0    0  ...    0     0   \n",
       "\n",
       "   CF  VH  MCA  VS  BRAO  PLQ  HPED  CL  \n",
       "0   0   0    0   0     0    0     0   0  \n",
       "1   0   0    0   0     0    0     0   0  \n",
       "2   0   0    0   0     0    0     0   0  \n",
       "3   0   0    0   0     0    0     0   0  \n",
       "4   0   0    0   0     0    0     0   0  \n",
       "\n",
       "[5 rows x 47 columns]"
      ]
     },
     "execution_count": 38,
     "metadata": {},
     "output_type": "execute_result"
    }
   ],
   "source": [
    "# Let us observe the training data\n",
    "eye_disease_train = pd.read_csv(path + '/Training_Set/Training_Set/RFMiD_Training_Labels.csv')\n",
    "eye_disease_train.head()"
   ]
  },
  {
   "cell_type": "code",
   "execution_count": 39,
   "id": "8cd577df-37a0-41c8-a617-6c313d5d0fad",
   "metadata": {
    "colab": {
     "base_uri": "https://localhost:8080/"
    },
    "executionCancelledAt": null,
    "executionTime": 49,
    "id": "eoFZY_2LvXti",
    "lastExecutedAt": 1748374422655,
    "lastExecutedByKernel": "e7d2420a-e1e1-4f1b-88ca-d2e298265e26",
    "lastScheduledRunId": null,
    "lastSuccessfullyExecutedCode": "\nprint(\"The Columns of the Training Data are \"+str(eye_disease_train.columns))\nprint(\"The Shape of the Training Data is\"+str(eye_disease_train.shape))",
    "outputId": "444ca970-cc46-40b4-d812-6652aa394947",
    "outputsMetadata": {
     "0": {
      "height": 164,
      "type": "stream"
     }
    }
   },
   "outputs": [
    {
     "name": "stdout",
     "output_type": "stream",
     "text": [
      "The Columns of the Training Data are Index(['ID', 'Disease_Risk', 'DR', 'ARMD', 'MH', 'DN', 'MYA', 'BRVO', 'TSLN',\n",
      "       'ERM', 'LS', 'MS', 'CSR', 'ODC', 'CRVO', 'TV', 'AH', 'ODP', 'ODE', 'ST',\n",
      "       'AION', 'PT', 'RT', 'RS', 'CRS', 'EDN', 'RPEC', 'MHL', 'RP', 'CWS',\n",
      "       'CB', 'ODPM', 'PRH', 'MNF', 'HR', 'CRAO', 'TD', 'CME', 'PTCR', 'CF',\n",
      "       'VH', 'MCA', 'VS', 'BRAO', 'PLQ', 'HPED', 'CL'],\n",
      "      dtype='object')\n",
      "The Shape of the Training Data is(1920, 47)\n"
     ]
    }
   ],
   "source": [
    "\n",
    "print(\"The Columns of the Training Data are \"+str(eye_disease_train.columns))\n",
    "print(\"The Shape of the Training Data is\"+str(eye_disease_train.shape))"
   ]
  },
  {
   "cell_type": "code",
   "execution_count": 40,
   "id": "72992f09-ad56-4311-b76e-27f00334d4b0",
   "metadata": {
    "colab": {
     "base_uri": "https://localhost:8080/",
     "height": 235
    },
    "executionCancelledAt": null,
    "executionTime": 54,
    "id": "D_KfmoH4y--S",
    "lastExecutedAt": 1748374422709,
    "lastExecutedByKernel": "e7d2420a-e1e1-4f1b-88ca-d2e298265e26",
    "lastScheduledRunId": null,
    "lastSuccessfullyExecutedCode": "eye_disease_test = pd.read_csv(path + '/Test_Set/Test_Set/RFMiD_Testing_Labels.csv')\neye_disease_test.head()\n\n",
    "outputId": "e1e833c8-7c02-4923-dda2-7190867cdc5e",
    "outputsMetadata": {
     "0": {
      "height": 262,
      "tableState": {
       "customFilter": {
        "const": {
         "type": "boolean",
         "valid": true,
         "value": true
        },
        "id": "18331351-830e-41fd-8bfa-62b91d85f53a",
        "nodeType": "const"
       }
      },
      "type": "dataFrame"
     }
    }
   },
   "outputs": [
    {
     "data": {
      "text/html": [
       "<div>\n",
       "<style scoped>\n",
       "    .dataframe tbody tr th:only-of-type {\n",
       "        vertical-align: middle;\n",
       "    }\n",
       "\n",
       "    .dataframe tbody tr th {\n",
       "        vertical-align: top;\n",
       "    }\n",
       "\n",
       "    .dataframe thead th {\n",
       "        text-align: right;\n",
       "    }\n",
       "</style>\n",
       "<table border=\"1\" class=\"dataframe\">\n",
       "  <thead>\n",
       "    <tr style=\"text-align: right;\">\n",
       "      <th></th>\n",
       "      <th>ID</th>\n",
       "      <th>Disease_Risk</th>\n",
       "      <th>DR</th>\n",
       "      <th>ARMD</th>\n",
       "      <th>MH</th>\n",
       "      <th>DN</th>\n",
       "      <th>MYA</th>\n",
       "      <th>BRVO</th>\n",
       "      <th>TSLN</th>\n",
       "      <th>ERM</th>\n",
       "      <th>...</th>\n",
       "      <th>CME</th>\n",
       "      <th>PTCR</th>\n",
       "      <th>CF</th>\n",
       "      <th>VH</th>\n",
       "      <th>MCA</th>\n",
       "      <th>VS</th>\n",
       "      <th>BRAO</th>\n",
       "      <th>PLQ</th>\n",
       "      <th>HPED</th>\n",
       "      <th>CL</th>\n",
       "    </tr>\n",
       "  </thead>\n",
       "  <tbody>\n",
       "    <tr>\n",
       "      <th>0</th>\n",
       "      <td>1</td>\n",
       "      <td>1</td>\n",
       "      <td>1</td>\n",
       "      <td>0</td>\n",
       "      <td>0</td>\n",
       "      <td>0</td>\n",
       "      <td>0</td>\n",
       "      <td>0</td>\n",
       "      <td>1</td>\n",
       "      <td>0</td>\n",
       "      <td>...</td>\n",
       "      <td>0</td>\n",
       "      <td>0</td>\n",
       "      <td>0</td>\n",
       "      <td>0</td>\n",
       "      <td>0</td>\n",
       "      <td>0</td>\n",
       "      <td>0</td>\n",
       "      <td>0</td>\n",
       "      <td>0</td>\n",
       "      <td>0</td>\n",
       "    </tr>\n",
       "    <tr>\n",
       "      <th>1</th>\n",
       "      <td>2</td>\n",
       "      <td>1</td>\n",
       "      <td>1</td>\n",
       "      <td>0</td>\n",
       "      <td>0</td>\n",
       "      <td>0</td>\n",
       "      <td>0</td>\n",
       "      <td>1</td>\n",
       "      <td>0</td>\n",
       "      <td>0</td>\n",
       "      <td>...</td>\n",
       "      <td>0</td>\n",
       "      <td>0</td>\n",
       "      <td>0</td>\n",
       "      <td>0</td>\n",
       "      <td>0</td>\n",
       "      <td>0</td>\n",
       "      <td>0</td>\n",
       "      <td>0</td>\n",
       "      <td>0</td>\n",
       "      <td>0</td>\n",
       "    </tr>\n",
       "    <tr>\n",
       "      <th>2</th>\n",
       "      <td>3</td>\n",
       "      <td>1</td>\n",
       "      <td>1</td>\n",
       "      <td>0</td>\n",
       "      <td>0</td>\n",
       "      <td>0</td>\n",
       "      <td>0</td>\n",
       "      <td>0</td>\n",
       "      <td>0</td>\n",
       "      <td>0</td>\n",
       "      <td>...</td>\n",
       "      <td>0</td>\n",
       "      <td>0</td>\n",
       "      <td>0</td>\n",
       "      <td>0</td>\n",
       "      <td>0</td>\n",
       "      <td>0</td>\n",
       "      <td>0</td>\n",
       "      <td>0</td>\n",
       "      <td>0</td>\n",
       "      <td>0</td>\n",
       "    </tr>\n",
       "    <tr>\n",
       "      <th>3</th>\n",
       "      <td>4</td>\n",
       "      <td>1</td>\n",
       "      <td>0</td>\n",
       "      <td>0</td>\n",
       "      <td>0</td>\n",
       "      <td>0</td>\n",
       "      <td>0</td>\n",
       "      <td>0</td>\n",
       "      <td>0</td>\n",
       "      <td>0</td>\n",
       "      <td>...</td>\n",
       "      <td>0</td>\n",
       "      <td>0</td>\n",
       "      <td>0</td>\n",
       "      <td>0</td>\n",
       "      <td>0</td>\n",
       "      <td>0</td>\n",
       "      <td>0</td>\n",
       "      <td>0</td>\n",
       "      <td>0</td>\n",
       "      <td>0</td>\n",
       "    </tr>\n",
       "    <tr>\n",
       "      <th>4</th>\n",
       "      <td>5</td>\n",
       "      <td>1</td>\n",
       "      <td>0</td>\n",
       "      <td>0</td>\n",
       "      <td>0</td>\n",
       "      <td>0</td>\n",
       "      <td>0</td>\n",
       "      <td>0</td>\n",
       "      <td>0</td>\n",
       "      <td>0</td>\n",
       "      <td>...</td>\n",
       "      <td>0</td>\n",
       "      <td>0</td>\n",
       "      <td>0</td>\n",
       "      <td>0</td>\n",
       "      <td>0</td>\n",
       "      <td>0</td>\n",
       "      <td>0</td>\n",
       "      <td>0</td>\n",
       "      <td>0</td>\n",
       "      <td>0</td>\n",
       "    </tr>\n",
       "  </tbody>\n",
       "</table>\n",
       "<p>5 rows × 47 columns</p>\n",
       "</div>"
      ],
      "text/plain": [
       "   ID  Disease_Risk  DR  ARMD  MH  DN  MYA  BRVO  TSLN  ERM  ...  CME  PTCR  \\\n",
       "0   1             1   1     0   0   0    0     0     1    0  ...    0     0   \n",
       "1   2             1   1     0   0   0    0     1     0    0  ...    0     0   \n",
       "2   3             1   1     0   0   0    0     0     0    0  ...    0     0   \n",
       "3   4             1   0     0   0   0    0     0     0    0  ...    0     0   \n",
       "4   5             1   0     0   0   0    0     0     0    0  ...    0     0   \n",
       "\n",
       "   CF  VH  MCA  VS  BRAO  PLQ  HPED  CL  \n",
       "0   0   0    0   0     0    0     0   0  \n",
       "1   0   0    0   0     0    0     0   0  \n",
       "2   0   0    0   0     0    0     0   0  \n",
       "3   0   0    0   0     0    0     0   0  \n",
       "4   0   0    0   0     0    0     0   0  \n",
       "\n",
       "[5 rows x 47 columns]"
      ]
     },
     "execution_count": 40,
     "metadata": {},
     "output_type": "execute_result"
    }
   ],
   "source": [
    "eye_disease_test = pd.read_csv(path + '/Test_Set/Test_Set/RFMiD_Testing_Labels.csv')\n",
    "eye_disease_test.head()\n",
    "\n"
   ]
  },
  {
   "cell_type": "code",
   "execution_count": 41,
   "id": "5153624e-8e75-4736-b787-4401f94337b6",
   "metadata": {
    "colab": {
     "base_uri": "https://localhost:8080/"
    },
    "executionCancelledAt": null,
    "executionTime": 49,
    "id": "zQYfWP6bzW44",
    "lastExecutedAt": 1748374422758,
    "lastExecutedByKernel": "e7d2420a-e1e1-4f1b-88ca-d2e298265e26",
    "lastScheduledRunId": null,
    "lastSuccessfullyExecutedCode": "print(\"The Columns of the Testing Data are \"+str(eye_disease_test.columns))\nprint(\"The Shape of the Testing Data is\"+str(eye_disease_test.shape))",
    "outputId": "2e82b39d-a95f-4a1c-e522-3acca40571f6",
    "outputsMetadata": {
     "0": {
      "height": 164,
      "type": "stream"
     }
    }
   },
   "outputs": [
    {
     "name": "stdout",
     "output_type": "stream",
     "text": [
      "The Columns of the Testing Data are Index(['ID', 'Disease_Risk', 'DR', 'ARMD', 'MH', 'DN', 'MYA', 'BRVO', 'TSLN',\n",
      "       'ERM', 'LS', 'MS', 'CSR', 'ODC', 'CRVO', 'TV', 'AH', 'ODP', 'ODE', 'ST',\n",
      "       'AION', 'PT', 'RT', 'RS', 'CRS', 'EDN', 'RPEC', 'MHL', 'RP', 'CWS',\n",
      "       'CB', 'ODPM', 'PRH', 'MNF', 'HR', 'CRAO', 'TD', 'CME', 'PTCR', 'CF',\n",
      "       'VH', 'MCA', 'VS', 'BRAO', 'PLQ', 'HPED', 'CL'],\n",
      "      dtype='object')\n",
      "The Shape of the Testing Data is(640, 47)\n"
     ]
    }
   ],
   "source": [
    "print(\"The Columns of the Testing Data are \"+str(eye_disease_test.columns))\n",
    "print(\"The Shape of the Testing Data is\"+str(eye_disease_test.shape))"
   ]
  },
  {
   "cell_type": "code",
   "execution_count": 42,
   "id": "48c411b7-959d-42dc-8ff9-6524e6cc75f8",
   "metadata": {
    "colab": {
     "base_uri": "https://localhost:8080/",
     "height": 235
    },
    "executionCancelledAt": null,
    "executionTime": 52,
    "id": "N-KAEM6JzksQ",
    "lastExecutedAt": 1748374422810,
    "lastExecutedByKernel": "e7d2420a-e1e1-4f1b-88ca-d2e298265e26",
    "lastScheduledRunId": null,
    "lastSuccessfullyExecutedCode": "eye_disease_eval = pd.read_csv(path + '/Evaluation_Set/Evaluation_Set/RFMiD_Validation_Labels.csv')\neye_disease_eval.head()",
    "outputId": "87c2b633-854a-41cb-8bd7-512dbbd6791c",
    "outputsMetadata": {
     "0": {
      "height": 262,
      "tableState": {
       "customFilter": {
        "const": {
         "type": "boolean",
         "valid": true,
         "value": true
        },
        "id": "18331351-830e-41fd-8bfa-62b91d85f53a",
        "nodeType": "const"
       }
      },
      "type": "dataFrame"
     }
    }
   },
   "outputs": [
    {
     "data": {
      "text/html": [
       "<div>\n",
       "<style scoped>\n",
       "    .dataframe tbody tr th:only-of-type {\n",
       "        vertical-align: middle;\n",
       "    }\n",
       "\n",
       "    .dataframe tbody tr th {\n",
       "        vertical-align: top;\n",
       "    }\n",
       "\n",
       "    .dataframe thead th {\n",
       "        text-align: right;\n",
       "    }\n",
       "</style>\n",
       "<table border=\"1\" class=\"dataframe\">\n",
       "  <thead>\n",
       "    <tr style=\"text-align: right;\">\n",
       "      <th></th>\n",
       "      <th>ID</th>\n",
       "      <th>Disease_Risk</th>\n",
       "      <th>DR</th>\n",
       "      <th>ARMD</th>\n",
       "      <th>MH</th>\n",
       "      <th>DN</th>\n",
       "      <th>MYA</th>\n",
       "      <th>BRVO</th>\n",
       "      <th>TSLN</th>\n",
       "      <th>ERM</th>\n",
       "      <th>...</th>\n",
       "      <th>CME</th>\n",
       "      <th>PTCR</th>\n",
       "      <th>CF</th>\n",
       "      <th>VH</th>\n",
       "      <th>MCA</th>\n",
       "      <th>VS</th>\n",
       "      <th>BRAO</th>\n",
       "      <th>PLQ</th>\n",
       "      <th>HPED</th>\n",
       "      <th>CL</th>\n",
       "    </tr>\n",
       "  </thead>\n",
       "  <tbody>\n",
       "    <tr>\n",
       "      <th>0</th>\n",
       "      <td>1</td>\n",
       "      <td>1</td>\n",
       "      <td>1</td>\n",
       "      <td>0</td>\n",
       "      <td>0</td>\n",
       "      <td>0</td>\n",
       "      <td>0</td>\n",
       "      <td>0</td>\n",
       "      <td>1</td>\n",
       "      <td>0</td>\n",
       "      <td>...</td>\n",
       "      <td>0</td>\n",
       "      <td>0</td>\n",
       "      <td>0</td>\n",
       "      <td>0</td>\n",
       "      <td>0</td>\n",
       "      <td>0</td>\n",
       "      <td>0</td>\n",
       "      <td>0</td>\n",
       "      <td>0</td>\n",
       "      <td>0</td>\n",
       "    </tr>\n",
       "    <tr>\n",
       "      <th>1</th>\n",
       "      <td>2</td>\n",
       "      <td>1</td>\n",
       "      <td>0</td>\n",
       "      <td>0</td>\n",
       "      <td>0</td>\n",
       "      <td>0</td>\n",
       "      <td>0</td>\n",
       "      <td>0</td>\n",
       "      <td>0</td>\n",
       "      <td>0</td>\n",
       "      <td>...</td>\n",
       "      <td>0</td>\n",
       "      <td>0</td>\n",
       "      <td>0</td>\n",
       "      <td>0</td>\n",
       "      <td>0</td>\n",
       "      <td>0</td>\n",
       "      <td>0</td>\n",
       "      <td>0</td>\n",
       "      <td>0</td>\n",
       "      <td>0</td>\n",
       "    </tr>\n",
       "    <tr>\n",
       "      <th>2</th>\n",
       "      <td>3</td>\n",
       "      <td>1</td>\n",
       "      <td>0</td>\n",
       "      <td>0</td>\n",
       "      <td>0</td>\n",
       "      <td>0</td>\n",
       "      <td>0</td>\n",
       "      <td>0</td>\n",
       "      <td>0</td>\n",
       "      <td>0</td>\n",
       "      <td>...</td>\n",
       "      <td>0</td>\n",
       "      <td>0</td>\n",
       "      <td>0</td>\n",
       "      <td>0</td>\n",
       "      <td>0</td>\n",
       "      <td>0</td>\n",
       "      <td>0</td>\n",
       "      <td>0</td>\n",
       "      <td>0</td>\n",
       "      <td>0</td>\n",
       "    </tr>\n",
       "    <tr>\n",
       "      <th>3</th>\n",
       "      <td>4</td>\n",
       "      <td>1</td>\n",
       "      <td>0</td>\n",
       "      <td>0</td>\n",
       "      <td>0</td>\n",
       "      <td>0</td>\n",
       "      <td>0</td>\n",
       "      <td>0</td>\n",
       "      <td>0</td>\n",
       "      <td>0</td>\n",
       "      <td>...</td>\n",
       "      <td>0</td>\n",
       "      <td>0</td>\n",
       "      <td>0</td>\n",
       "      <td>0</td>\n",
       "      <td>0</td>\n",
       "      <td>0</td>\n",
       "      <td>0</td>\n",
       "      <td>0</td>\n",
       "      <td>0</td>\n",
       "      <td>0</td>\n",
       "    </tr>\n",
       "    <tr>\n",
       "      <th>4</th>\n",
       "      <td>5</td>\n",
       "      <td>1</td>\n",
       "      <td>0</td>\n",
       "      <td>0</td>\n",
       "      <td>0</td>\n",
       "      <td>0</td>\n",
       "      <td>0</td>\n",
       "      <td>0</td>\n",
       "      <td>0</td>\n",
       "      <td>0</td>\n",
       "      <td>...</td>\n",
       "      <td>0</td>\n",
       "      <td>0</td>\n",
       "      <td>0</td>\n",
       "      <td>0</td>\n",
       "      <td>0</td>\n",
       "      <td>0</td>\n",
       "      <td>0</td>\n",
       "      <td>0</td>\n",
       "      <td>0</td>\n",
       "      <td>0</td>\n",
       "    </tr>\n",
       "  </tbody>\n",
       "</table>\n",
       "<p>5 rows × 47 columns</p>\n",
       "</div>"
      ],
      "text/plain": [
       "   ID  Disease_Risk  DR  ARMD  MH  DN  MYA  BRVO  TSLN  ERM  ...  CME  PTCR  \\\n",
       "0   1             1   1     0   0   0    0     0     1    0  ...    0     0   \n",
       "1   2             1   0     0   0   0    0     0     0    0  ...    0     0   \n",
       "2   3             1   0     0   0   0    0     0     0    0  ...    0     0   \n",
       "3   4             1   0     0   0   0    0     0     0    0  ...    0     0   \n",
       "4   5             1   0     0   0   0    0     0     0    0  ...    0     0   \n",
       "\n",
       "   CF  VH  MCA  VS  BRAO  PLQ  HPED  CL  \n",
       "0   0   0    0   0     0    0     0   0  \n",
       "1   0   0    0   0     0    0     0   0  \n",
       "2   0   0    0   0     0    0     0   0  \n",
       "3   0   0    0   0     0    0     0   0  \n",
       "4   0   0    0   0     0    0     0   0  \n",
       "\n",
       "[5 rows x 47 columns]"
      ]
     },
     "execution_count": 42,
     "metadata": {},
     "output_type": "execute_result"
    }
   ],
   "source": [
    "eye_disease_eval = pd.read_csv(path + '/Evaluation_Set/Evaluation_Set/RFMiD_Validation_Labels.csv')\n",
    "eye_disease_eval.head()"
   ]
  },
  {
   "cell_type": "code",
   "execution_count": 43,
   "id": "f024e588-437f-432d-afb1-3f9b2e8b24bd",
   "metadata": {
    "colab": {
     "base_uri": "https://localhost:8080/"
    },
    "executionCancelledAt": null,
    "executionTime": 53,
    "id": "XkMyujjfzvLk",
    "lastExecutedAt": 1748374422863,
    "lastExecutedByKernel": "e7d2420a-e1e1-4f1b-88ca-d2e298265e26",
    "lastScheduledRunId": null,
    "lastSuccessfullyExecutedCode": "print(\"The Columns of the Evaluation Data are \"+str(eye_disease_eval.columns))\nprint(\"The Shape of the Evaluation Data is\" +str(eye_disease_eval.shape))",
    "outputId": "b340ccaf-6bf0-4ee8-93b4-c68b7ab56108",
    "outputsMetadata": {
     "0": {
      "height": 164,
      "type": "stream"
     }
    }
   },
   "outputs": [
    {
     "name": "stdout",
     "output_type": "stream",
     "text": [
      "The Columns of the Evaluation Data are Index(['ID', 'Disease_Risk', 'DR', 'ARMD', 'MH', 'DN', 'MYA', 'BRVO', 'TSLN',\n",
      "       'ERM', 'LS', 'MS', 'CSR', 'ODC', 'CRVO', 'TV', 'AH', 'ODP', 'ODE', 'ST',\n",
      "       'AION', 'PT', 'RT', 'RS', 'CRS', 'EDN', 'RPEC', 'MHL', 'RP', 'CWS',\n",
      "       'CB', 'ODPM', 'PRH', 'MNF', 'HR', 'CRAO', 'TD', 'CME', 'PTCR', 'CF',\n",
      "       'VH', 'MCA', 'VS', 'BRAO', 'PLQ', 'HPED', 'CL'],\n",
      "      dtype='object')\n",
      "The Shape of the Evaluation Data is(640, 47)\n"
     ]
    }
   ],
   "source": [
    "print(\"The Columns of the Evaluation Data are \"+str(eye_disease_eval.columns))\n",
    "print(\"The Shape of the Evaluation Data is\" +str(eye_disease_eval.shape))"
   ]
  },
  {
   "cell_type": "markdown",
   "id": "4c655773-2679-4c9e-aabf-ef1c48cb8576",
   "metadata": {
    "id": "O0oRcP5Y1fuf"
   },
   "source": [
    "---\n",
    "\n",
    "# Let us Now Observe the Training DataSet and the Corresponding Images Provided\n",
    "\n",
    "---\n",
    "\n"
   ]
  },
  {
   "cell_type": "code",
   "execution_count": 44,
   "id": "d284d7e5-6462-4485-a1b9-df1bee45c54b",
   "metadata": {
    "colab": {
     "base_uri": "https://localhost:8080/"
    },
    "executionCancelledAt": null,
    "executionTime": 46,
    "id": "MESWGkUy1orV",
    "lastExecutedAt": 1748374422909,
    "lastExecutedByKernel": "e7d2420a-e1e1-4f1b-88ca-d2e298265e26",
    "lastScheduledRunId": null,
    "lastSuccessfullyExecutedCode": "eye_disease_train.head(5)\nprint(eye_disease_train['ID'])",
    "outputId": "764e8706-fbd5-4bea-8583-3c5ec6650722",
    "outputsMetadata": {
     "0": {
      "height": 269,
      "type": "stream"
     }
    }
   },
   "outputs": [
    {
     "name": "stdout",
     "output_type": "stream",
     "text": [
      "0          1\n",
      "1          2\n",
      "2          3\n",
      "3          4\n",
      "4          5\n",
      "        ... \n",
      "1915    1916\n",
      "1916    1917\n",
      "1917    1918\n",
      "1918    1919\n",
      "1919    1920\n",
      "Name: ID, Length: 1920, dtype: int64\n"
     ]
    }
   ],
   "source": [
    "eye_disease_train.head(5)\n",
    "print(eye_disease_train['ID'])"
   ]
  },
  {
   "cell_type": "code",
   "execution_count": 45,
   "id": "406b94a8-3d18-4545-9ac1-18b28e35d7a6",
   "metadata": {
    "colab": {
     "base_uri": "https://localhost:8080/"
    },
    "executionCancelledAt": null,
    "executionTime": 63,
    "id": "Z4EO1SJS8dhO",
    "lastExecutedAt": 1748374422972,
    "lastExecutedByKernel": "e7d2420a-e1e1-4f1b-88ca-d2e298265e26",
    "lastScheduledRunId": null,
    "lastSuccessfullyExecutedCode": "eye_disease_train.reset_index(drop= True)\n\nprint(eye_disease_train.head())\n\neye_disease_train.set_index('ID')\n\nprint(eye_disease_train.head())",
    "outputId": "99b4ffad-884c-4753-a49f-1a0cadca60fd",
    "outputsMetadata": {
     "0": {
      "height": 353,
      "type": "stream"
     }
    }
   },
   "outputs": [
    {
     "name": "stdout",
     "output_type": "stream",
     "text": [
      "   ID  Disease_Risk  DR  ARMD  MH  DN  MYA  BRVO  TSLN  ERM  ...  CME  PTCR  \\\n",
      "0   1             1   1     0   0   0    0     0     0    0  ...    0     0   \n",
      "1   2             1   1     0   0   0    0     0     0    0  ...    0     0   \n",
      "2   3             1   1     0   0   0    0     0     0    0  ...    0     0   \n",
      "3   4             1   0     0   1   0    0     0     0    0  ...    0     0   \n",
      "4   5             1   1     0   0   0    0     0     0    0  ...    0     0   \n",
      "\n",
      "   CF  VH  MCA  VS  BRAO  PLQ  HPED  CL  \n",
      "0   0   0    0   0     0    0     0   0  \n",
      "1   0   0    0   0     0    0     0   0  \n",
      "2   0   0    0   0     0    0     0   0  \n",
      "3   0   0    0   0     0    0     0   0  \n",
      "4   0   0    0   0     0    0     0   0  \n",
      "\n",
      "[5 rows x 47 columns]\n",
      "   ID  Disease_Risk  DR  ARMD  MH  DN  MYA  BRVO  TSLN  ERM  ...  CME  PTCR  \\\n",
      "0   1             1   1     0   0   0    0     0     0    0  ...    0     0   \n",
      "1   2             1   1     0   0   0    0     0     0    0  ...    0     0   \n",
      "2   3             1   1     0   0   0    0     0     0    0  ...    0     0   \n",
      "3   4             1   0     0   1   0    0     0     0    0  ...    0     0   \n",
      "4   5             1   1     0   0   0    0     0     0    0  ...    0     0   \n",
      "\n",
      "   CF  VH  MCA  VS  BRAO  PLQ  HPED  CL  \n",
      "0   0   0    0   0     0    0     0   0  \n",
      "1   0   0    0   0     0    0     0   0  \n",
      "2   0   0    0   0     0    0     0   0  \n",
      "3   0   0    0   0     0    0     0   0  \n",
      "4   0   0    0   0     0    0     0   0  \n",
      "\n",
      "[5 rows x 47 columns]\n"
     ]
    }
   ],
   "source": [
    "eye_disease_train.reset_index(drop= True)\n",
    "\n",
    "print(eye_disease_train.head())\n",
    "\n",
    "eye_disease_train.set_index('ID')\n",
    "\n",
    "print(eye_disease_train.head())"
   ]
  },
  {
   "cell_type": "code",
   "execution_count": 46,
   "id": "19d80e98-246c-42de-86e9-536aabf484ac",
   "metadata": {
    "executionCancelledAt": null,
    "executionTime": 45,
    "id": "VNDVcxVe13my",
    "lastExecutedAt": 1748374423017,
    "lastExecutedByKernel": "e7d2420a-e1e1-4f1b-88ca-d2e298265e26",
    "lastScheduledRunId": null,
    "lastSuccessfullyExecutedCode": "train_images_dir = path + '/Training_Set/Training_Set/Training'\n\n#lets initialize lists to store images and labels\ntrain_images = []\ntrain_labels = []"
   },
   "outputs": [],
   "source": [
    "train_images_dir = path + '/Training_Set/Training_Set/Training'\n",
    "\n",
    "#lets initialize lists to store images and labels\n",
    "train_images = []\n",
    "train_labels = []"
   ]
  },
  {
   "cell_type": "code",
   "execution_count": 47,
   "id": "f3ac80bf",
   "metadata": {},
   "outputs": [],
   "source": [
    "TARGET_HEIGHT = 224\n",
    "TARGET_WIDTH = 224\n",
    "TARGET_CHANNELS = 3 "
   ]
  },
  {
   "cell_type": "code",
   "execution_count": 48,
   "id": "110328f8-2791-4b03-bdae-88c1ea9c9c42",
   "metadata": {
    "colab": {
     "base_uri": "https://localhost:8080/"
    },
    "executionCancelledAt": null,
    "executionTime": null,
    "id": "-RdDVigF2RRk",
    "lastExecutedAt": null,
    "lastExecutedByKernel": null,
    "lastScheduledRunId": null,
    "lastSuccessfullyExecutedCode": null,
    "outputId": "2c8631a2-7ec4-472b-8ed6-275719ed1a74",
    "outputsMetadata": {
     "0": {
      "height": 616,
      "type": "stream"
     }
    }
   },
   "outputs": [
    {
     "name": "stdout",
     "output_type": "stream",
     "text": [
      "<class 'list'> <class 'list'>\n"
     ]
    }
   ],
   "source": [
    "#Iterating through each files of the directory\n",
    "for filename in os.listdir(train_images_dir):\n",
    "  if filename.endswith('.png'):\n",
    "    img_id = filename[:-4]\n",
    "    #print(\"image id is\",img_id)\n",
    "    #loading the image using Pillow PIL\n",
    "    img_path = os.path.join(train_images_dir, filename)\n",
    "\n",
    "    try:\n",
    "      img = Image.open(img_path)\n",
    "      img=img.convert('RGB')\n",
    "      img = img.resize((TARGET_WIDTH, TARGET_HEIGHT)) \n",
    "      #converting the image to numpy array\n",
    "      img_array = np.array(img)\n",
    "      if img_array.shape != (TARGET_HEIGHT, TARGET_WIDTH, 3):\n",
    "        print(f\"Skipping '{filename}': Incorrect shape after resize {img_array.shape}\")\n",
    "        continue\n",
    "\n",
    "    except Exception as e:\n",
    "      print(f\"Skipping '{filename}': Error during image processing: {e}\")\n",
    "      continue\n",
    "\n",
    "    label = eye_disease_train[eye_disease_train['ID'] == int(img_id)].iloc[0, 1:].values\n",
    "\n",
    "    train_images.append(img_array)\n",
    "    train_labels.append(label)\n",
    "\n",
    "print(type(train_images),type(train_labels))"
   ]
  },
  {
   "cell_type": "markdown",
   "id": "6a48921b",
   "metadata": {},
   "source": [
    "These test are just to check if there are any errors while converting the dimensionality of the image, as it is necessary to convert the lists to an numpy array\n"
   ]
  },
  {
   "cell_type": "code",
   "execution_count": 49,
   "id": "bbbd90d4",
   "metadata": {},
   "outputs": [
    {
     "name": "stdout",
     "output_type": "stream",
     "text": [
      "{(224, 224, 3)}\n"
     ]
    }
   ],
   "source": [
    "shapes = [img.shape for img in train_images]\n",
    "unique_shapes = set(shapes)\n",
    "print(unique_shapes)"
   ]
  },
  {
   "cell_type": "code",
   "execution_count": 50,
   "id": "301b65c0",
   "metadata": {},
   "outputs": [],
   "source": [
    "train_images = np.array(train_images, dtype=np.float32) \n",
    "train_labels = np.array(train_labels, dtype=np.float32)"
   ]
  },
  {
   "cell_type": "code",
   "execution_count": 51,
   "id": "a32d8e9c",
   "metadata": {},
   "outputs": [
    {
     "name": "stdout",
     "output_type": "stream",
     "text": [
      "<class 'numpy.ndarray'> <class 'numpy.ndarray'>\n"
     ]
    }
   ],
   "source": [
    "print(type(train_images),type(train_labels))"
   ]
  }
 ],
 "metadata": {
  "colab": {
   "provenance": []
  },
  "editor": "DataLab",
  "kernelspec": {
   "display_name": "Python 3",
   "language": "python",
   "name": "python3"
  },
  "language_info": {
   "codemirror_mode": {
    "name": "ipython",
    "version": 3
   },
   "file_extension": ".py",
   "mimetype": "text/x-python",
   "name": "python",
   "nbconvert_exporter": "python",
   "pygments_lexer": "ipython3",
   "version": "3.11.9"
  }
 },
 "nbformat": 4,
 "nbformat_minor": 5
}
